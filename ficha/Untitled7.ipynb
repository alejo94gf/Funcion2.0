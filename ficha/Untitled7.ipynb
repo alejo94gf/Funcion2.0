{
  "nbformat": 4,
  "nbformat_minor": 0,
  "metadata": {
    "colab": {
      "provenance": [],
      "authorship_tag": "ABX9TyP5n+Uyvw7CTFWd6xQWZJ4j",
      "include_colab_link": true
    },
    "kernelspec": {
      "name": "python3",
      "display_name": "Python 3"
    },
    "language_info": {
      "name": "python"
    }
  },
  "cells": [
    {
      "cell_type": "markdown",
      "metadata": {
        "id": "view-in-github",
        "colab_type": "text"
      },
      "source": [
        "<a href=\"https://colab.research.google.com/github/alejo94gf/Funcion2.0/blob/main/ficha/Untitled7.ipynb\" target=\"_parent\"><img src=\"https://colab.research.google.com/assets/colab-badge.svg\" alt=\"Open In Colab\"/></a>"
      ]
    },
    {
      "cell_type": "markdown",
      "source": [
        "Ficha fuunciones\n",
        "\n",
        "# funciones  en Python: ¿Para qué y por qué se utilizan?\n",
        "Las funciones en Python son bloques de código reutilizables que ejecutan una tarea específica. Se usan para organizar, modularizar y optimizar el código.\n",
        "\n",
        "\" nos sirve para   organizar el codigo sierve como deficion de un pproceso de entrada y salida en la progamación\n",
        " sirve como serparador\"\n",
        " al declarar la funcion yo estableso un (Scope) el scope permite proteger el contendio real de las varabiables intermnamente sin que afecten las variables externas.\n",
        "\n",
        " las funciones pueden requerir  uno o muchos parametros  y eso debe afectar el scop interno de la funcion.\n",
        ""
      ],
      "metadata": {
        "id": "wg_j7ErTCDk9"
      }
    },
    {
      "cell_type": "code",
      "source": [
        "def saludar(nombre):\n",
        "    \"\"\"Esta función recibe un nombre y muestra un saludo personalizado.\"\"\"\n",
        "    saludo = f\"Hola, {nombre}!\"\n",
        "    return saludo\n",
        "\n",
        "# Llamar a la función con un argumento\n",
        "mensaje = saludar(\"Carlos\")\n",
        "print(mensaje)\n"
      ],
      "metadata": {
        "id": "3TevkBBaCety"
      },
      "execution_count": null,
      "outputs": []
    },
    {
      "cell_type": "code",
      "execution_count": null,
      "metadata": {
        "id": "cveCjmqk9OhP"
      },
      "outputs": [],
      "source": []
    }
  ]
}